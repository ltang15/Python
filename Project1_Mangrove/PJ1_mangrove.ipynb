{
  "nbformat": 4,
  "nbformat_minor": 0,
  "metadata": {
    "colab": {
      "name": "PJ1_mangrove.ipynb",
      "provenance": [],
      "collapsed_sections": []
    },
    "kernelspec": {
      "name": "python3",
      "display_name": "Python 3"
    }
  },
  "cells": [
    {
      "cell_type": "code",
      "metadata": {
        "id": "SzRMuz37YLph",
        "colab_type": "code",
        "colab": {}
      },
      "source": [
        "import numpy as np\n",
        "from pylab import *\n",
        "import matplotlib\n",
        "import matplotlib.pyplot as plt"
      ],
      "execution_count": 47,
      "outputs": []
    },
    {
      "cell_type": "code",
      "metadata": {
        "id": "OR0x0mHQfhK-",
        "colab_type": "code",
        "colab": {
          "base_uri": "https://localhost:8080/",
          "height": 133
        },
        "outputId": "78b25dff-f2fd-49e2-8b84-903c4ec13275"
      },
      "source": [
        "#Problem 2\n",
        "M = np.zeros((7,7))\n",
        "M[0,5] = 500\n",
        "M[0,6] = 1000\n",
        "M[1,0] = 0.2\n",
        "M[1,1] = 0.666\n",
        "M[2,1] = 0.083\n",
        "M[2,2] = 0.825\n",
        "M[3,2] = 0.01\n",
        "M[3,3] = 0.909\n",
        "M[4,3] = 0.073\n",
        "M[4,4] = 0.963\n",
        "M[5,4] = 0.008\n",
        "M[5,5] = 0.98\n",
        "M[6,5] = 0.012\n",
        "M[6,6] = 0.999\n",
        "print (M)"
      ],
      "execution_count": 48,
      "outputs": [
        {
          "output_type": "stream",
          "text": [
            "[[0.00e+00 0.00e+00 0.00e+00 0.00e+00 0.00e+00 5.00e+02 1.00e+03]\n",
            " [2.00e-01 6.66e-01 0.00e+00 0.00e+00 0.00e+00 0.00e+00 0.00e+00]\n",
            " [0.00e+00 8.30e-02 8.25e-01 0.00e+00 0.00e+00 0.00e+00 0.00e+00]\n",
            " [0.00e+00 0.00e+00 1.00e-02 9.09e-01 0.00e+00 0.00e+00 0.00e+00]\n",
            " [0.00e+00 0.00e+00 0.00e+00 7.30e-02 9.63e-01 0.00e+00 0.00e+00]\n",
            " [0.00e+00 0.00e+00 0.00e+00 0.00e+00 8.00e-03 9.80e-01 0.00e+00]\n",
            " [0.00e+00 0.00e+00 0.00e+00 0.00e+00 0.00e+00 1.20e-02 9.99e-01]]\n"
          ],
          "name": "stdout"
        }
      ]
    },
    {
      "cell_type": "code",
      "metadata": {
        "id": "7x_eeKVU3M1f",
        "colab_type": "code",
        "colab": {
          "base_uri": "https://localhost:8080/",
          "height": 1000
        },
        "outputId": "4c885693-4c2c-4bde-e365-1466b99338df"
      },
      "source": [
        "#Problem 3\n",
        "#initial conditions\n",
        "A_1= np.array(([100,500,800,600,500,500,300]))\n",
        "A_2 = np.array(([150,1200,200,600,400,600,200]))\n",
        "A_3 = np.array(([900,400,300,100,500,100,250]))\n",
        "\n",
        "t_units = 30 #30 time units\n",
        "\n",
        "t1 = A_1\n",
        "for i in range (t_units):\n",
        "  A_1 = np.matmul(M,A_1)\n",
        "  t1 = np.vstack((t1,A_1)) #adding row by row\n",
        "\n",
        "pri#nt (\"test\" , t1)\n",
        "\n",
        "t2 = A_2\n",
        "for i in range (t_units):\n",
        "  A_2 = np.matmul(M,A_2)\n",
        "  t2 = np.vstack ((t2,A_2))\n",
        "\n",
        "t3 = A_3\n",
        "for i in range (t_units):\n",
        "  A_3 = np.matmul(M,A_3)\n",
        "  t3 = np.vstack ((t3,A_3))     \n",
        "\n",
        "#plot\n",
        "\n",
        "x = np.arange(0,t_units + 1,1)\n",
        "y1 = t1[:,0] #extract first column for propagules\n",
        "y2 = t2[:,0]\n",
        "y3 = t3[:,0]\n",
        "#print (y1)\n",
        "\n",
        "plt.plot(x,y1,'r',x,y2,'b', x,y3, 'm')\n",
        "plt.title (\"Propagules\")\n",
        "plt.xlabel('time units')\n",
        "plt.ylabel('population')"
      ],
      "execution_count": 49,
      "outputs": [
        {
          "output_type": "stream",
          "text": [
            "test [[1.00000000e+02 5.00000000e+02 8.00000000e+02 6.00000000e+02\n",
            "  5.00000000e+02 5.00000000e+02 3.00000000e+02]\n",
            " [5.50000000e+05 3.53000000e+02 7.01500000e+02 5.53400000e+02\n",
            "  5.25300000e+02 4.94000000e+02 3.05700000e+02]\n",
            " [5.52700000e+05 1.10235098e+05 6.08036500e+02 5.10055600e+02\n",
            "  5.46262100e+02 4.88322400e+02 3.11322300e+02]\n",
            " [5.55483500e+05 1.83956575e+05 9.65114325e+03 4.69720905e+02\n",
            "  5.63284461e+02 4.82926049e+02 3.16870847e+02]\n",
            " [5.58333871e+05 2.33611779e+05 2.32305889e+04 5.23487735e+02\n",
            "  5.76732562e+02 4.77773804e+02 3.22349088e+02]\n",
            " [5.61235990e+05 2.67252219e+05 3.85550135e+04 7.08156241e+02\n",
            "  5.93608062e+02 4.72832188e+02 3.27760025e+02]\n",
            " [5.64176119e+05 2.90237176e+05 5.39898203e+04 1.02926416e+03\n",
            "  6.23339969e+02 4.68124409e+02 3.33106251e+02]\n",
            " [5.67168455e+05 3.06133183e+05 6.86312874e+04 1.47549932e+03\n",
            "  6.75412674e+02 4.63748640e+02 3.38390638e+02]\n",
            " [5.70264958e+05 3.17318391e+05 8.20298663e+04 2.02754176e+03\n",
            "  7.58133856e+02 4.59876969e+02 3.43617231e+02]\n",
            " [5.73555715e+05 3.25387040e+05 9.40120661e+04 2.66333412e+03\n",
            "  8.78093451e+02 4.56744500e+02 3.48792137e+02]\n",
            " [5.77164387e+05 3.31418912e+05 1.04567079e+05 3.36109138e+03\n",
            "  1.04002738e+03 4.54634358e+02 3.53924279e+02]\n",
            " [5.81241458e+05 3.36157873e+05 1.13775610e+05 4.10090285e+03\n",
            "  1.24690604e+03 4.53861890e+02 3.59025967e+02]\n",
            " [5.85956912e+05 3.40129435e+05 1.21765981e+05 4.86547679e+03\n",
            "  1.50013643e+03 4.54759900e+02 3.64113284e+02]\n",
            " [5.91493234e+05 3.43717586e+05 1.28687678e+05 5.64037822e+03\n",
            "  1.79981118e+03 4.57665794e+02 3.69206289e+02]\n",
            " [5.98039186e+05 3.47214559e+05 1.34695894e+05 6.41398058e+03\n",
            "  2.14496578e+03 4.62910967e+02 3.74329072e+02]\n",
            " [6.05784556e+05 3.50852734e+05 1.39942921e+05 7.17726728e+03\n",
            "  2.53382263e+03 4.70812474e+02 3.79509675e+02]\n",
            " [6.14915912e+05 3.54824832e+05 1.44573687e+05 7.92356517e+03\n",
            "  2.96401170e+03 4.81666806e+02 3.84779915e+02]\n",
            " [6.25613318e+05 3.59296520e+05 1.48723752e+05 8.64825760e+03\n",
            "  3.43276353e+03 4.95745563e+02 3.90175137e+02]\n",
            " [6.38047918e+05 3.64414146e+05 1.52518707e+05 9.34850368e+03\n",
            "  3.93707408e+03 5.13292760e+02 3.95733908e+02]\n",
            " [6.52380289e+05 3.70309405e+05 1.56074307e+05 1.00229769e+04\n",
            "  4.47384311e+03 5.34523498e+02 4.01497688e+02]\n",
            " [6.68759436e+05 3.77102121e+05 1.59496984e+05 1.06716291e+04\n",
            "  5.03998823e+03 5.59623773e+02 4.07510472e+02]\n",
            " [6.87322358e+05 3.84901900e+05 1.62884488e+05 1.12954807e+04\n",
            "  5.63253759e+03 5.88751203e+02 4.13818447e+02]\n",
            " [7.08194048e+05 3.93809137e+05 1.66326560e+05 1.18964368e+04\n",
            "  6.24870379e+03 6.22036480e+02 4.20469643e+02]\n",
            " [7.31487883e+05 4.03915695e+05 1.69905571e+05 1.24771267e+04\n",
            "  6.88594164e+03 6.59585380e+02 4.27513611e+02]\n",
            " [7.57306301e+05 4.15305429e+05 1.73697098e+05 1.30407639e+04\n",
            "  7.54199204e+03 7.01481206e+02 4.35001122e+02]\n",
            " [7.85741725e+05 4.28054676e+05 1.77770457e+05 1.35910253e+04\n",
            "  8.21491410e+03 7.47787518e+02 4.42983895e+02]\n",
            " [8.16877654e+05 4.42232759e+05 1.82189165e+05 1.41319466e+04\n",
            "  8.90310713e+03 7.98551080e+02 4.51514361e+02]\n",
            " [8.50789902e+05 4.57902548e+05 1.87011380e+05 1.46678311e+04\n",
            "  9.60532426e+03 8.53804916e+02 4.60645460e+02]\n",
            " [8.87547918e+05 4.75121078e+05 1.92290300e+05 1.52031723e+04\n",
            "  1.03206789e+04 9.13571412e+02 4.70430474e+02]\n",
            " [9.27216179e+05 4.93940221e+05 1.98074547e+05 1.57425866e+04\n",
            "  1.10486454e+04 9.77865415e+02 4.80922900e+02]\n",
            " [9.69855607e+05 5.14407423e+05 2.04408540e+05 1.62907567e+04\n",
            "  1.17890543e+04 1.04669727e+03 4.92176362e+02]]\n"
          ],
          "name": "stdout"
        },
        {
          "output_type": "execute_result",
          "data": {
            "text/plain": [
              "Text(0, 0.5, 'population')"
            ]
          },
          "metadata": {
            "tags": []
          },
          "execution_count": 49
        },
        {
          "output_type": "display_data",
          "data": {
            "image/png": "[encoded data removed]",
            "text/plain": [
              "<Figure size 432x288 with 1 Axes>"
            ]
          },
          "metadata": {
            "tags": [],
            "needs_background": "light"
          }
        }
      ]
    },
    {
      "cell_type": "code",
      "metadata": {
        "id": "OkVRy8532t-S",
        "colab_type": "code",
        "colab": {
          "base_uri": "https://localhost:8080/",
          "height": 617
        },
        "outputId": "f0a31402-781b-47ba-c826-e7ca857d6aa1"
      },
      "source": [
        "#Problem 4\n",
        "v, w = np.linalg.eig(M)\n",
        "print(\"Eigenvalue\\n\",v) \n",
        "\n",
        "print(\"Eigenvector\\n\",w) \n",
        "\n",
        "\n",
        "max_eigval = np.max(abs(v));\n",
        "\n",
        "print (\"Dominant eigen value is: \", max_eigval)\n",
        "if max_eigval > 1:\n",
        "  print (\"In the long run, the mangrove population will grow\")\n",
        "else:\n",
        "  print (\"In the long run, the mangrove population will decay\") "
      ],
      "execution_count": 50,
      "outputs": [
        {
          "output_type": "stream",
          "text": [
            "Eigenvalue\n",
            " [-1.00306923e-04+0.j          6.97792977e-01+0.j\n",
            "  7.35730360e-01+0.j          9.42674610e-01+0.09655739j\n",
            "  9.42674610e-01-0.09655739j  1.04814018e+00+0.j\n",
            "  9.75087570e-01+0.j        ]\n",
            "Eigenvector\n",
            " [[ 9.57358483e-01+0.00000000e+00j -1.31921008e-01+0.00000000e+00j\n",
            "   2.47202261e-01+0.00000000e+00j -7.89004161e-01+0.00000000e+00j\n",
            "  -7.89004161e-01-0.00000000e+00j -8.72986671e-01+0.00000000e+00j\n",
            "   7.05065522e-01+0.00000000e+00j]\n",
            " [-2.87451746e-01+0.00000000e+00j -8.29875138e-01+0.00000000e+00j\n",
            "   7.09023329e-01+0.00000000e+00j -5.08424143e-01+1.77436253e-01j\n",
            "  -5.08424143e-01-1.77436253e-01j -4.56893423e-01+0.00000000e+00j\n",
            "   4.56223795e-01+0.00000000e+00j]\n",
            " [ 2.89158721e-02+0.00000000e+00j  5.41476681e-01+0.00000000e+00j\n",
            "  -6.59226771e-01+0.00000000e+00j -1.52941554e-01+2.50647489e-01j\n",
            "  -1.52941554e-01-2.50647489e-01j -1.69947673e-01+0.00000000e+00j\n",
            "   2.52296542e-01+0.00000000e+00j]\n",
            " [-3.18071305e-04+0.00000000e+00j -2.56372480e-02+0.00000000e+00j\n",
            "   3.80462944e-02+0.00000000e+00j  1.82184736e-02+2.21931810e-02j\n",
            "   1.82184736e-02-2.21931810e-02j -1.22141336e-02+0.00000000e+00j\n",
            "   3.81760957e-02+0.00000000e+00j]\n",
            " [ 2.41088131e-05+0.00000000e+00j  7.05682333e-03+0.00000000e+00j\n",
            "  -1.22206358e-02+0.00000000e+00j  1.32903787e-02-1.65712927e-02j\n",
            "   1.32903787e-02+1.65712927e-02j -1.04725145e-02+0.00000000e+00j\n",
            "   2.30555428e-01+0.00000000e+00j]\n",
            " [-1.96786495e-07+0.00000000e+00j -2.00046711e-04+0.00000000e+00j\n",
            "   4.00234292e-04+0.00000000e+00j -1.56479944e-03-4.96246669e-04j\n",
            "  -1.56479944e-03+4.96246669e-04j -1.22952593e-03+0.00000000e+00j\n",
            "  -3.75464609e-01+0.00000000e+00j]\n",
            " [ 2.36356443e-09+0.00000000e+00j  7.96980266e-06+0.00000000e+00j\n",
            "  -1.82429372e-05+0.00000000e+00j  3.86255276e-05+1.71939156e-04j\n",
            "   3.86255276e-05-1.71939156e-04j -3.00249441e-04+0.00000000e+00j\n",
            "   1.88419805e-01+0.00000000e+00j]]\n",
            "Dominant eigen value is:  1.048140178442451\n",
            "In the long run, the mangrove population will grow\n"
          ],
          "name": "stdout"
        }
      ]
    },
    {
      "cell_type": "code",
      "metadata": {
        "id": "1arJaMip5oQ7",
        "colab_type": "code",
        "colab": {
          "base_uri": "https://localhost:8080/",
          "height": 167
        },
        "outputId": "a05f460f-63d5-4632-e9f9-2cd4214f4032"
      },
      "source": [
        "#Problem 5\n",
        "\n",
        "print (\"Dominant eigen value is: \", max_eigval)\n",
        "\n",
        "eig_vect =[]\n",
        "for i in range (len(v)):\n",
        "  if v[i] == max_eigval:\n",
        "    eig_vect = w[:,i]\n",
        "    print (\"Dominant eigen vector is: \\n\", eig_vect)\n",
        "\n",
        "new_vect = (eig_vect/eig_vect[6])*1000\n",
        "\n",
        "print (\"New population when we have 1000 older trees:\\n\",new_vect)\n",
        "\n",
        "\n",
        "\n"
      ],
      "execution_count": 51,
      "outputs": [
        {
          "output_type": "stream",
          "text": [
            "Dominant eigen value is:  1.048140178442451\n",
            "Dominant eigen vector is: \n",
            " [-8.72986671e-01+0.j -4.56893423e-01+0.j -1.69947673e-01+0.j\n",
            " -1.22141336e-02+0.j -1.04725145e-02+0.j -1.22952593e-03+0.j\n",
            " -3.00249441e-04+0.j]\n",
            "New population when we have 1000 older trees:\n",
            " [2.90753804e+06+0.j 1.52171282e+06+0.j 5.66021613e+05+0.j\n",
            " 4.06799545e+04+0.j 3.48793805e+04+0.j 4.09501487e+03+0.j\n",
            " 1.00000000e+03+0.j]\n"
          ],
          "name": "stdout"
        }
      ]
    },
    {
      "cell_type": "code",
      "metadata": {
        "id": "sYVQEDQrIUPs",
        "colab_type": "code",
        "colab": {}
      },
      "source": [
        "#Problem 6\n",
        "\n",
        "M1 = np.zeros((7,7))\n",
        "M1[0,5] = M[0,5]* 1.01\n",
        "\n",
        "\n",
        "M1[0,6] = 1000\n",
        "M1[1,0] = 0.2\n",
        "M1[1,1] = 0.666\n",
        "M1[2,1] = 0.083\n",
        "M1[2,2] = 0.825\n",
        "M1[3,2] = 0.01\n",
        "M1[3,3] = 0.909\n",
        "M1[4,3] = 0.073\n",
        "M1[4,4] = 0.963\n",
        "M1[5,4] = 0.008\n",
        "M1[5,5] = 0.98\n",
        "M1[6,5] = 0.012\n",
        "M1[6,6] = 0.999\n",
        "\n"
      ],
      "execution_count": 52,
      "outputs": []
    },
    {
      "cell_type": "code",
      "metadata": {
        "id": "rfiUNIP7RbZ9",
        "colab_type": "code",
        "colab": {}
      },
      "source": [
        "M2 = np.zeros((7,7))\n",
        "M2[0,5] = 500\n",
        "\n",
        "\n",
        "M2[0,6] = 1000*1.01\n",
        "M2[1,0] = 0.2\n",
        "M2[1,1] = 0.666\n",
        "M2[2,1] = 0.083\n",
        "M2[2,2] = 0.825\n",
        "M2[3,2] = 0.01\n",
        "M2[3,3] = 0.909\n",
        "M2[4,3] = 0.073\n",
        "M2[4,4] = 0.963\n",
        "M2[5,4] = 0.008\n",
        "M2[5,5] = 0.98\n",
        "M2[6,5] = 0.012\n",
        "M2[6,6] = 0.999\n"
      ],
      "execution_count": 53,
      "outputs": []
    },
    {
      "cell_type": "code",
      "metadata": {
        "colab_type": "code",
        "id": "RvW19JzhToPE",
        "colab": {}
      },
      "source": [
        "\n",
        "M3 = np.zeros((7,7))\n",
        "M3[0,5] = 500\n",
        "M3[0,6] = 1000\n",
        "M3[1,0] = 0.2*1.01\n",
        "M3[1,1] = 0.666\n",
        "M3[2,1] = 0.083\n",
        "M3[2,2] = 0.825\n",
        "M3[3,2] = 0.01\n",
        "M3[3,3] = 0.909\n",
        "M3[4,3] = 0.073\n",
        "M3[4,4] = 0.963\n",
        "M3[5,4] = 0.008\n",
        "M3[5,5] = 0.98\n",
        "M3[6,5] = 0.012\n",
        "M3[6,6] = 0.999\n"
      ],
      "execution_count": 54,
      "outputs": []
    },
    {
      "cell_type": "code",
      "metadata": {
        "id": "rafK6WXDWu2r",
        "colab_type": "code",
        "colab": {}
      },
      "source": [
        "M4 = np.zeros((7,7))\n",
        "M4[0,5] = 500\n",
        "M4[0,6] = 1000\n",
        "M4[1,0] = 0.2\n",
        "M4[1,1] = 0.666*1.01\n",
        "M4[2,1] = 0.083\n",
        "M4[2,2] = 0.825\n",
        "M4[3,2] = 0.01\n",
        "M4[3,3] = 0.909\n",
        "M4[4,3] = 0.073\n",
        "M4[4,4] = 0.963\n",
        "M4[5,4] = 0.008\n",
        "M4[5,5] = 0.98\n",
        "M4[6,5] = 0.012\n",
        "M4[6,6] = 0.999\n",
        "\n"
      ],
      "execution_count": 55,
      "outputs": []
    },
    {
      "cell_type": "code",
      "metadata": {
        "id": "pAVz3U2sW8b0",
        "colab_type": "code",
        "colab": {}
      },
      "source": [
        "M5 = np.zeros((7,7))\n",
        "M5[0,5] = 500\n",
        "M5[0,6] = 1000\n",
        "M5[1,0] = 0.2\n",
        "M5[1,1] = 0.666\n",
        "M5[2,1] = 0.083*1.01\n",
        "M5[2,2] = 0.825\n",
        "M5[3,2] = 0.01\n",
        "M5[3,3] = 0.909\n",
        "M5[4,3] = 0.073\n",
        "M5[4,4] = 0.963\n",
        "M5[5,4] = 0.008\n",
        "M5[5,5] = 0.98\n",
        "M5[6,5] = 0.012\n",
        "M5[6,6] = 0.999\n",
        "\n"
      ],
      "execution_count": 56,
      "outputs": []
    },
    {
      "cell_type": "code",
      "metadata": {
        "id": "BsYQf6T8XVpA",
        "colab_type": "code",
        "colab": {}
      },
      "source": [
        "M6 = np.zeros((7,7))\n",
        "M6[0,5] = 500\n",
        "M6[0,6] = 1000\n",
        "M6[1,0] = 0.2\n",
        "M6[1,1] = 0.666\n",
        "M6[2,1] = 0.083\n",
        "M6[2,2] = 0.825*1.01\n",
        "M6[3,2] = 0.01\n",
        "M6[3,3] = 0.909\n",
        "M6[4,3] = 0.073\n",
        "M6[4,4] = 0.963\n",
        "M6[5,4] = 0.008\n",
        "M6[5,5] = 0.98\n",
        "M6[6,5] = 0.012\n",
        "M6[6,6] = 0.999\n",
        "\n"
      ],
      "execution_count": 57,
      "outputs": []
    },
    {
      "cell_type": "code",
      "metadata": {
        "id": "L_HU3fziXV36",
        "colab_type": "code",
        "colab": {}
      },
      "source": [
        "M7 = np.zeros((7,7))\n",
        "M7[0,5] = 500\n",
        "M7[0,6] = 1000\n",
        "M7[1,0] = 0.2\n",
        "M7[1,1] = 0.666\n",
        "M7[2,1] = 0.083\n",
        "M7[2,2] = 0.825\n",
        "M7[3,2] = 0.01*1.01\n",
        "M7[3,3] = 0.909\n",
        "M7[4,3] = 0.073\n",
        "M7[4,4] = 0.963\n",
        "M7[5,4] = 0.008\n",
        "M7[5,5] = 0.98\n",
        "M7[6,5] = 0.012\n",
        "M7[6,6] = 0.999\n"
      ],
      "execution_count": 58,
      "outputs": []
    },
    {
      "cell_type": "code",
      "metadata": {
        "id": "x0tBgbeJXWGI",
        "colab_type": "code",
        "colab": {}
      },
      "source": [
        "M8 = np.zeros((7,7))\n",
        "M8[0,5] = 500\n",
        "M8[0,6] = 1000\n",
        "M8[1,0] = 0.2\n",
        "M8[1,1] = 0.666\n",
        "M8[2,1] = 0.083\n",
        "M8[2,2] = 0.825\n",
        "M8[3,2] = 0.01\n",
        "M8[3,3] = 0.909*1.01\n",
        "M8[4,3] = 0.073\n",
        "M8[4,4] = 0.963\n",
        "M8[5,4] = 0.008\n",
        "M8[5,5] = 0.98\n",
        "M8[6,5] = 0.012\n",
        "M8[6,6] = 0.999\n"
      ],
      "execution_count": 59,
      "outputs": []
    },
    {
      "cell_type": "code",
      "metadata": {
        "id": "MrioHk7LXWPb",
        "colab_type": "code",
        "colab": {}
      },
      "source": [
        "M9 = np.zeros((7,7))\n",
        "M9[0,5] = 500\n",
        "M9[0,6] = 1000\n",
        "M9[1,0] = 0.2\n",
        "M9[1,1] = 0.666\n",
        "M9[2,1] = 0.083\n",
        "M9[2,2] = 0.825\n",
        "M9[3,2] = 0.01\n",
        "M9[3,3] = 0.909\n",
        "M9[4,3] = 0.073*1.01\n",
        "M9[4,4] = 0.963\n",
        "M9[5,4] = 0.008\n",
        "M9[5,5] = 0.98\n",
        "M9[6,5] = 0.012\n",
        "M9[6,6] = 0.999\n"
      ],
      "execution_count": 60,
      "outputs": []
    },
    {
      "cell_type": "code",
      "metadata": {
        "id": "9OlvClXqXWYd",
        "colab_type": "code",
        "colab": {}
      },
      "source": [
        "M10 = np.zeros((7,7))\n",
        "M10[0,5] = 500\n",
        "M10[0,6] = 1000\n",
        "M10[1,0] = 0.2\n",
        "M10[1,1] = 0.666\n",
        "M10[2,1] = 0.083\n",
        "M10[2,2] = 0.825\n",
        "M10[3,2] = 0.01\n",
        "M10[3,3] = 0.909\n",
        "M10[4,3] = 0.073\n",
        "M10[4,4] = 0.963*1.01\n",
        "M10[5,4] = 0.008\n",
        "M10[5,5] = 0.98\n",
        "M10[6,5] = 0.012\n",
        "M10[6,6] = 0.999\n"
      ],
      "execution_count": 61,
      "outputs": []
    },
    {
      "cell_type": "code",
      "metadata": {
        "id": "65XmeZUgYOQp",
        "colab_type": "code",
        "colab": {}
      },
      "source": [
        "M11 = np.zeros((7,7))\n",
        "M11[0,5] = 500\n",
        "M11[0,6] = 1000\n",
        "M11[1,0] = 0.2\n",
        "M11[1,1] = 0.666\n",
        "M11[2,1] = 0.083\n",
        "M11[2,2] = 0.825\n",
        "M11[3,2] = 0.01\n",
        "M11[3,3] = 0.909\n",
        "M11[4,3] = 0.073\n",
        "M11[4,4] = 0.963\n",
        "M11[5,4] = 0.008*1.01\n",
        "M11[5,5] = 0.98\n",
        "M11[6,5] = 0.012\n",
        "M11[6,6] = 0.999\n"
      ],
      "execution_count": 62,
      "outputs": []
    },
    {
      "cell_type": "code",
      "metadata": {
        "id": "E6dS3U8iYOa4",
        "colab_type": "code",
        "colab": {}
      },
      "source": [
        "M12 = np.zeros((7,7))\n",
        "M12[0,5] = 500\n",
        "M12[0,6] = 1000\n",
        "M12[1,0] = 0.2\n",
        "M12[1,1] = 0.666\n",
        "M12[2,1] = 0.083\n",
        "M12[2,2] = 0.825\n",
        "M12[3,2] = 0.01\n",
        "M12[3,3] = 0.909\n",
        "M12[4,3] = 0.073\n",
        "M12[4,4] = 0.963\n",
        "M12[5,4] = 0.008\n",
        "M12[5,5] = 0.98*1.01\n",
        "M12[6,5] = 0.012\n",
        "M12[6,6] = 0.999\n"
      ],
      "execution_count": 63,
      "outputs": []
    },
    {
      "cell_type": "code",
      "metadata": {
        "id": "BjQ5He-CYOjw",
        "colab_type": "code",
        "colab": {}
      },
      "source": [
        "M13 = np.zeros((7,7))\n",
        "M13[0,5] = 500\n",
        "M13[0,6] = 1000\n",
        "M13[1,0] = 0.2\n",
        "M13[1,1] = 0.666\n",
        "M13[2,1] = 0.083\n",
        "M13[2,2] = 0.825\n",
        "M13[3,2] = 0.01\n",
        "M13[3,3] = 0.909\n",
        "M13[4,3] = 0.073\n",
        "M13[4,4] = 0.963\n",
        "M13[5,4] = 0.008\n",
        "M13[5,5] = 0.98\n",
        "M13[6,5] = 0.012*1.01\n",
        "M13[6,6] = 0.999\n"
      ],
      "execution_count": 64,
      "outputs": []
    },
    {
      "cell_type": "code",
      "metadata": {
        "id": "xiPGmFqcYOsd",
        "colab_type": "code",
        "colab": {}
      },
      "source": [
        "M14 = np.zeros((7,7))\n",
        "M14[0,5] = 500\n",
        "M14[0,6] = 1000\n",
        "M14[1,0] = 0.2\n",
        "M14[1,1] = 0.666\n",
        "M14[2,1] = 0.083\n",
        "M14[2,2] = 0.825\n",
        "M14[3,2] = 0.01\n",
        "M14[3,3] = 0.909\n",
        "M14[4,3] = 0.073\n",
        "M14[4,4] = 0.963\n",
        "M14[5,4] = 0.008\n",
        "M14[5,5] = 0.98\n",
        "M14[6,5] = 0.012\n",
        "M14[6,6] = 0.999*1.01\n"
      ],
      "execution_count": 65,
      "outputs": []
    },
    {
      "cell_type": "code",
      "metadata": {
        "id": "U8jp2r07Zwoj",
        "colab_type": "code",
        "colab": {
          "base_uri": "https://localhost:8080/",
          "height": 50
        },
        "outputId": "74cb9126-0af1-440a-c1d4-bb3dad31446e"
      },
      "source": [
        "\n",
        "\n",
        "M_list = np.array([M1,M2,M3,M4,M5,M6,M7,M8,M9,M10,M11,M12,M13,M14])\n",
        "eigv_list =[]\n",
        "for i in range (len(M_list)):\n",
        "  v1, w1 = np.linalg.eig(M_list[i])\n",
        "  max_v = np.max(abs(v1))\n",
        "  eigv_list.append(max_v)\n",
        "\n",
        "#print (eigv_list)\n",
        "diff = [] #difference with the original dominant eig val\n",
        "for k in range (len(eigv_list)):\n",
        "  d = eigv_list[k] - max_eigval\n",
        "  diff.append(d)\n",
        "\n",
        "\n",
        "eff = np.max(diff)\n",
        "\n",
        "\n",
        "\n",
        "#return the position\n",
        "for n in range (len(diff)):\n",
        "  if diff[n] == eff:\n",
        "    print(\"The most effective change belongs to M\",n+1)\n",
        "    \n",
        "print (\"The change of parmeter at row 5, col 5\")    \n",
        "\n",
        "\n"
      ],
      "execution_count": 66,
      "outputs": [
        {
          "output_type": "stream",
          "text": [
            "The most effective change belongs to M 12\n",
            "The change of parmeter at row 5, col 5\n"
          ],
          "name": "stdout"
        }
      ]
    },
    {
      "cell_type": "code",
      "metadata": {
        "id": "q3xoFzYhk672",
        "colab_type": "code",
        "colab": {
          "base_uri": "https://localhost:8080/",
          "height": 800
        },
        "outputId": "e097ead6-894e-462a-c4b4-c0bf7c76d29d"
      },
      "source": [
        "#Problem 7\n",
        "N = np.zeros((7,7))\n",
        "\n",
        "N[0,4] = 100\n",
        "N[0,5] = 500\n",
        "N[0,6] = 1000\n",
        "N[1,0] = 0.4\n",
        "N[1,1] = 0.666\n",
        "N[2,1] = 0.23\n",
        "N[2,2] = 0.825\n",
        "N[3,2] = 0.045\n",
        "N[3,3] = 0.909\n",
        "N[4,3] = 0.045\n",
        "N[4,4] = 0.963\n",
        "N[5,4] = 0.008\n",
        "N[5,5] = 0.98\n",
        "N[6,5] = 0.012\n",
        "N[6,6] = 0.999\n",
        "\n",
        "print (\"Matrix for type b\\n\",N,\"\\n\")\n",
        "\n",
        "v_b, w_b = np.linalg.eig(N)\n",
        "print(\"Eigenvalue\\n\",v_b, \"\\n\") \n",
        "\n",
        "print(\"Eigenvector\\n\",w_b,\"\\n\") \n",
        "\n",
        "max_eval = np.max(abs(v_b));\n",
        "\n",
        "print (\"Dominant eigen value is: \", max_eval,\"\\n\")\n",
        "if max_eval > 1:\n",
        "  print (\"In the long run, the mangrove population type b will grow\")\n",
        "else:\n",
        "  print (\"In the long run, the mangrove population type b  will decay\") \n"
      ],
      "execution_count": 67,
      "outputs": [
        {
          "output_type": "stream",
          "text": [
            "Matrix for type b\n",
            " [[0.00e+00 0.00e+00 0.00e+00 0.00e+00 1.00e+02 5.00e+02 1.00e+03]\n",
            " [4.00e-01 6.66e-01 0.00e+00 0.00e+00 0.00e+00 0.00e+00 0.00e+00]\n",
            " [0.00e+00 2.30e-01 8.25e-01 0.00e+00 0.00e+00 0.00e+00 0.00e+00]\n",
            " [0.00e+00 0.00e+00 4.50e-02 9.09e-01 0.00e+00 0.00e+00 0.00e+00]\n",
            " [0.00e+00 0.00e+00 0.00e+00 4.50e-02 9.63e-01 0.00e+00 0.00e+00]\n",
            " [0.00e+00 0.00e+00 0.00e+00 0.00e+00 8.00e-03 9.80e-01 0.00e+00]\n",
            " [0.00e+00 0.00e+00 0.00e+00 0.00e+00 0.00e+00 1.20e-02 9.99e-01]] \n",
            "\n",
            "Eigenvalue\n",
            " [0.04692915+0.j         0.35496315+0.j         0.88923912+0.35210781j\n",
            " 0.88923912-0.35210781j 1.22261572+0.j         0.96950687+0.00943716j\n",
            " 0.96950687-0.00943716j] \n",
            "\n",
            "Eigenvector\n",
            " [[ 8.29293670e-01+0.00000000e+00j  5.72366531e-01+0.00000000e+00j\n",
            "   6.58391202e-01+0.00000000e+00j  6.58391202e-01-0.00000000e+00j\n",
            "  -7.68574035e-01+0.00000000e+00j  4.48238740e-02+1.21803423e-01j\n",
            "   4.48238740e-02-1.21803423e-01j]\n",
            " [-5.35831186e-01+0.00000000e+00j -7.36075525e-01+0.00000000e+00j\n",
            "   3.38240429e-01-5.33495642e-01j  3.38240429e-01+5.33495642e-01j\n",
            "  -5.52319319e-01+0.00000000e+00j  6.40041466e-02+1.58537932e-01j\n",
            "   6.40041466e-02-1.58537932e-01j]\n",
            " [ 1.58393253e-01+0.00000000e+00j  3.60178932e-01+0.00000000e+00j\n",
            "  -2.98248033e-01-2.75354554e-01j -2.98248033e-01+2.75354554e-01j\n",
            "  -3.19487982e-01+0.00000000e+00j  1.17846469e-01+2.44636036e-01j\n",
            "   1.17846469e-01-2.44636036e-01j]\n",
            " [-8.26810973e-03+0.00000000e+00j -2.92544656e-02+0.00000000e+00j\n",
            "  -3.29478552e-02+3.99657136e-02j -3.29478552e-02-3.99657136e-02j\n",
            "  -4.58425978e-02+0.00000000e+00j  1.13266028e-01+1.64274098e-01j\n",
            "   1.13266028e-01-1.64274098e-01j]\n",
            " [ 4.06153015e-04+0.00000000e+00j  2.16508416e-03+0.00000000e+00j\n",
            "   5.73797942e-03+3.00878036e-03j  5.73797942e-03-3.00878036e-03j\n",
            "  -7.94604009e-03+0.00000000e+00j  7.83321533e-01+0.00000000e+00j\n",
            "   7.83321533e-01-0.00000000e+00j]\n",
            " [-3.48229089e-06+0.00000000e+00j -2.77114434e-05+0.00000000e+00j\n",
            "   3.25906162e-05-1.38769395e-04j  3.25906162e-05+1.38769395e-04j\n",
            "  -2.62012376e-04+0.00000000e+00j -3.30156777e-01-2.96931790e-01j\n",
            "  -3.30156777e-01+2.96931790e-01j]\n",
            " [ 4.38911565e-08+0.00000000e+00j  5.16332754e-07+0.00000000e+00j\n",
            "  -4.62603655e-06+3.31348634e-07j -4.62603655e-06-3.31348634e-07j\n",
            "  -1.40604987e-05+0.00000000e+00j  8.67885428e-02+1.48584407e-01j\n",
            "   8.67885428e-02-1.48584407e-01j]] \n",
            "\n",
            "Dominant eigen value is:  1.2226157176665158 \n",
            "\n",
            "In the long run, the mangrove population type b will grow\n"
          ],
          "name": "stdout"
        }
      ]
    },
    {
      "cell_type": "code",
      "metadata": {
        "id": "TViSN2M77rpp",
        "colab_type": "code",
        "colab": {
          "base_uri": "https://localhost:8080/",
          "height": 250
        },
        "outputId": "d0e7152b-dac0-4522-e969-de3b82cc6090"
      },
      "source": [
        "#Problem 8\n",
        "\n",
        "print (\"Dominant eigen value is: \", max_eval)\n",
        "\n",
        "e_vect =[]\n",
        "for i in range (len(v_b)):\n",
        "  if v_b[i] == max_eval:\n",
        "    e_vect = w_b[:,i]\n",
        "    print (\"Dominant eigen vector is: \\n\", e_vect)\n",
        "\n",
        "new = (e_vect/e_vect[6])*1000\n",
        "\n",
        "print (\"\\nWhen we have 1000 older trees for tybe b model, there will be: \",new.round(), \"\\n\\n\")\n",
        "\n",
        "# Analyzing the behavior and rate of change\n",
        "def rate (val):\n",
        "  if abs(val) > 1:\n",
        "    p = (abs(val) -1)*100\n",
        "    if val > 0:\n",
        "      print (\"Long term behavior: Exponential growth at the rate \",p.round(), \"percent.\")\n",
        "    else:\n",
        "      print (\"Long term behavior: Fluctuating growth at the rate \",p.round(), \"percent.\")\n",
        "  elif abs (val) < 1:\n",
        "    q = (1 - abs(val))*100\n",
        "    if val > 0:\n",
        "      print (\"Long term behavior: Exponential decay at the rate \",q.round(), \"percent.\")\n",
        "    elif val < 0:\n",
        "      print (\"Long term behavior: Fluctuating decay at the rate \",q.round(), \"percent.\")\n",
        "\n",
        "print (\"-Model of type a:\")\n",
        "rate (max_eigval)\n",
        "\n",
        "print (\"-Model of type b:\")\n",
        "rate (max_eval)\n"
      ],
      "execution_count": 68,
      "outputs": [
        {
          "output_type": "stream",
          "text": [
            "Dominant eigen value is:  1.2226157176665158\n",
            "Dominant eigen vector is: \n",
            " [-7.68574035e-01+0.j -5.52319319e-01+0.j -3.19487982e-01+0.j\n",
            " -4.58425978e-02+0.j -7.94604009e-03+0.j -2.62012376e-04+0.j\n",
            " -1.40604987e-05+0.j]\n",
            "\n",
            "When we have 1000 older trees for tybe b model, there will be:  [5.4661933e+07+0.j 3.9281631e+07+0.j 2.2722379e+07+0.j 3.2603820e+06+0.j\n",
            " 5.6513200e+05+0.j 1.8635000e+04+0.j 1.0000000e+03+0.j] \n",
            "\n",
            "\n",
            "-Model of type a:\n",
            "Long term behavior: Exponential growth at the rate  5.0 percent.\n",
            "-Model of type b:\n",
            "Long term behavior: Exponential growth at the rate  22.0 percent.\n"
          ],
          "name": "stdout"
        }
      ]
    }
  ]
}